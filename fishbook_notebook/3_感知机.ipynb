{
 "cells": [
  {
   "cell_type": "code",
   "execution_count": 3,
   "id": "488433fc-dbe2-4921-bedf-173c1d2b664d",
   "metadata": {},
   "outputs": [],
   "source": [
    "#感知机的实现\n",
    "#与门的实现\n",
    "def AND(x1,x2):\n",
    "    w1,w2,theta = 0.5,0.5,0.7\n",
    "    temp = w1*x1 + w2*x2\n",
    "    if temp <= theta:\n",
    "        return 0\n",
    "    else:\n",
    "        return 1"
   ]
  },
  {
   "cell_type": "code",
   "execution_count": 5,
   "id": "562903d9-f35d-4872-a130-d90671f76d45",
   "metadata": {},
   "outputs": [
    {
     "data": {
      "text/plain": [
       "1"
      ]
     },
     "execution_count": 5,
     "metadata": {},
     "output_type": "execute_result"
    }
   ],
   "source": [
    "AND(0,0)\n",
    "AND(0,1)\n",
    "AND(1,0)\n",
    "AND(1,1)"
   ]
  },
  {
   "cell_type": "code",
   "execution_count": 12,
   "id": "f29de44e-28b7-4e44-976a-04f06ab82630",
   "metadata": {},
   "outputs": [
    {
     "name": "stdout",
     "output_type": "stream",
     "text": [
      "0\n"
     ]
    }
   ],
   "source": [
    "#引入bias后利用numpy实现与门感知机\n",
    "import numpy as np\n",
    "x = np.array([0,1])\n",
    "w = np.array([0.5,0.5])\n",
    "b = -0.7\n",
    "temp = np.sum(w*x)+b\n",
    "if temp<=0:\n",
    "    print(0)\n",
    "else:\n",
    "    print(1)"
   ]
  },
  {
   "cell_type": "code",
   "execution_count": 8,
   "id": "ac60f7d7-4d19-43ff-814e-57d76b7f9a10",
   "metadata": {},
   "outputs": [],
   "source": [
    "#做成函数\n",
    "def AND_(x1,x2):\n",
    "    x = np.array([x1,x2])\n",
    "    w = np.array([0.5,0.5])\n",
    "    b = -0.7\n",
    "    temp = np.sum(w*x)+b\n",
    "    if temp<=0:\n",
    "        return 0\n",
    "    else:\n",
    "        return 1"
   ]
  },
  {
   "cell_type": "code",
   "execution_count": 10,
   "id": "5544e42a-f117-4673-8225-80f7319a308b",
   "metadata": {},
   "outputs": [
    {
     "data": {
      "text/plain": [
       "1"
      ]
     },
     "execution_count": 10,
     "metadata": {},
     "output_type": "execute_result"
    }
   ],
   "source": [
    "AND_(0,1)\n",
    "AND_(1,1)"
   ]
  },
  {
   "cell_type": "code",
   "execution_count": 13,
   "id": "8996b47c-bb42-4d38-8ea5-793c3416a788",
   "metadata": {},
   "outputs": [],
   "source": [
    "#与非门和或门此处省略"
   ]
  },
  {
   "cell_type": "code",
   "execution_count": null,
   "id": "4a3203ce-b313-402d-a649-0e90eb6eefd9",
   "metadata": {},
   "outputs": [],
   "source": [
    "#由异或门无法用感知机实现可知：\n",
    "#感知机的局限性是线性，不能表示非线性\n",
    "#但是感知机可以通过叠加层来表示异或门"
   ]
  }
 ],
 "metadata": {
  "kernelspec": {
   "display_name": "Python(pytorch)",
   "language": "python",
   "name": "pytorch"
  },
  "language_info": {
   "codemirror_mode": {
    "name": "ipython",
    "version": 3
   },
   "file_extension": ".py",
   "mimetype": "text/x-python",
   "name": "python",
   "nbconvert_exporter": "python",
   "pygments_lexer": "ipython3",
   "version": "3.10.18"
  }
 },
 "nbformat": 4,
 "nbformat_minor": 5
}
