{
 "cells": [
  {
   "cell_type": "code",
   "execution_count": 2,
   "id": "117643fa-f227-446d-a349-df311547568b",
   "metadata": {},
   "outputs": [],
   "source": [
    "#numpy数据对象：ndarray\n",
    "import numpy as np"
   ]
  },
  {
   "cell_type": "code",
   "execution_count": 8,
   "id": "9b7749d1-57cd-4043-a4ed-03ced4f76d02",
   "metadata": {},
   "outputs": [
    {
     "name": "stdout",
     "output_type": "stream",
     "text": [
      "[1 2 3]\n",
      "[[1 2]\n",
      " [3 4]]\n",
      "[[1 2 3 4]]\n",
      "[1.+0.j 2.+0.j 3.+0.j 4.+0.j]\n"
     ]
    }
   ],
   "source": [
    "#创建一个ndarray对象：numpy.array(object,dtype=None,copy=True,oder=None,subok=False,ndmin=0)\n",
    "#参数依次是：\n",
    "# object：里面要放的数组/数列\n",
    "# dytype：数组元素的数据类型\n",
    "# copy：是否需要赋值\n",
    "# order：创建数组的样式\n",
    "# subok：默认返回一个与基类类型一致的数组\n",
    "# ndmin：指定生成数组的最小维度\n",
    "a = np.array([1,2,3])\n",
    "print(a)\n",
    "b = np.array([[1,2],[3,4]])\n",
    "print(b)\n",
    "c = np.array([1,2,3,4],ndmin=2)\n",
    "print(c)\n",
    "d = np.array([1,2,3,4],dtype = complex)\n",
    "print(d)"
   ]
  },
  {
   "cell_type": "code",
   "execution_count": 15,
   "id": "9aefad9b-cbf6-4c8e-83f4-b567622f6460",
   "metadata": {},
   "outputs": [
    {
     "name": "stdout",
     "output_type": "stream",
     "text": [
      "int32\n",
      "int32\n"
     ]
    }
   ],
   "source": [
    "#numpy.dtype(object,align,copy)\n",
    "dt = np.dtype(np.int32)\n",
    "print(dt)\n",
    "#int8,int16,int32,int64可以用'i1',i2','i4','i8'代替\n",
    "dt = np.dtype('i4')\n",
    "print(dt)"
   ]
  },
  {
   "cell_type": "code",
   "execution_count": 29,
   "id": "dc00523e-d6f9-40ee-b131-e485ebd1428f",
   "metadata": {},
   "outputs": [
    {
     "name": "stdout",
     "output_type": "stream",
     "text": [
      "[ 0  1  2  3  4  5  6  7  8  9 10 11 12 13 14 15 16 17 18 19 20 21 22 23]\n",
      "[[[ 0  1  2]\n",
      "  [ 3  4  5]\n",
      "  [ 6  7  8]\n",
      "  [ 9 10 11]]\n",
      "\n",
      " [[12 13 14]\n",
      "  [15 16 17]\n",
      "  [18 19 20]\n",
      "  [21 22 23]]]\n"
     ]
    }
   ],
   "source": [
    "#numpy数组的属性：ndim（秩），shape（维度）size（元素个数），dtype（元素类型），itemsize（元素大小）\n",
    "#flags（内存布局信息），real（元素实部），image（元素虚部），data（实际存储数组元素的缓冲区）\n",
    "a = np.arange(24)#0到23\n",
    "print(a)\n",
    "b = a.reshape(2,4,3)\n",
    "print(b)"
   ]
  },
  {
   "cell_type": "code",
   "execution_count": 36,
   "id": "03c06594-2a76-46a8-94ef-bb3c0477a3b7",
   "metadata": {},
   "outputs": [
    {
     "name": "stdout",
     "output_type": "stream",
     "text": [
      "1\n",
      "3\n",
      "(24,)\n",
      "(2, 4, 3)\n",
      "24\n",
      "24\n",
      "int32\n",
      "int32\n",
      "4\n",
      "4\n",
      "  C_CONTIGUOUS : True\n",
      "  F_CONTIGUOUS : True\n",
      "  OWNDATA : True\n",
      "  WRITEABLE : True\n",
      "  ALIGNED : True\n",
      "  WRITEBACKIFCOPY : False\n",
      "  UPDATEIFCOPY : False\n",
      "\n"
     ]
    }
   ],
   "source": [
    "#ndim\n",
    "print(a.ndim)\n",
    "print(b.ndim)\n",
    "#shape\n",
    "print(a.shape)\n",
    "print(b.shape)\n",
    "#size\n",
    "print(a.size)\n",
    "print(b.size)\n",
    "#dtype\n",
    "print(a.dtype)\n",
    "print(b.dtype)\n",
    "#itemsize\n",
    "print(a.itemsize)\n",
    "print(b.itemsize)\n",
    "#flags\n",
    "print(a.flags)"
   ]
  },
  {
   "cell_type": "code",
   "execution_count": 40,
   "id": "ea5b3f8f-ba0c-469e-8a1a-7174387e2df8",
   "metadata": {},
   "outputs": [
    {
     "name": "stdout",
     "output_type": "stream",
     "text": [
      "[[0 0]\n",
      " [0 0]\n",
      " [0 0]]\n",
      "[[0 0]\n",
      " [0 0]\n",
      " [0 0]]\n",
      "[[[1. 1.]\n",
      "  [1. 1.]\n",
      "  [1. 1.]\n",
      "  [1. 1.]]\n",
      "\n",
      " [[1. 1.]\n",
      "  [1. 1.]\n",
      "  [1. 1.]\n",
      "  [1. 1.]]]\n",
      "[[[0 0]\n",
      "  [0 0]\n",
      "  [0 0]\n",
      "  [0 0]]\n",
      "\n",
      " [[0 0]\n",
      "  [0 0]\n",
      "  [0 0]\n",
      "  [0 0]]]\n"
     ]
    }
   ],
   "source": [
    "#创建数组的其他方式\n",
    "#numpy.empty(shape,dtype=float,erder='C'),创建一个指定形状和数据类型且未初始化的数组\n",
    "a = np.empty([3,2],int)\n",
    "print(a)\n",
    "#numpy.zeros(shape,dtypr=float,order='C')元素0来填充\n",
    "a = np.zeros([3,2],int)\n",
    "print(a)\n",
    "#numpy.ones(shape,dtype,order)\n",
    "a = np.ones([2,4,2,],float)\n",
    "print(a)\n",
    "#numpy.zeros_like(a,dtype,order,subok,shape)\n",
    "b = np.zeros_like(a,int)\n",
    "print(b)\n",
    "#numpy.ones_like同理\n"
   ]
  },
  {
   "cell_type": "code",
   "execution_count": 45,
   "id": "75a8ce27-cade-4e83-af92-e1fd5a9c6cd7",
   "metadata": {},
   "outputs": [
    {
     "name": "stdout",
     "output_type": "stream",
     "text": [
      "[1 2 3]\n",
      "[1. 2. 3.]\n",
      "[(1, 2, 3), (2, 4)]\n"
     ]
    }
   ],
   "source": [
    "#从已有的数组创建数组\n",
    "#numpy.asarray(a,dtype,order),将a转换为ndarray类型，a可以是列表元组等等\n",
    "a = [1,2,3]\n",
    "ndarray = np.asarray(a,int)\n",
    "print(ndarray)\n",
    "b = (1,2,3)\n",
    "ndarray = np.asarray(b,float)\n",
    "print(ndarray)\n",
    "c = [(1,2,3),(2,4)]\n",
    "ndarray = np.asarray(c,dtype = tuple)\n",
    "print(c)"
   ]
  },
  {
   "cell_type": "code",
   "execution_count": 61,
   "id": "06890527-66c8-4421-988c-34c21521a918",
   "metadata": {},
   "outputs": [
    {
     "name": "stdout",
     "output_type": "stream",
     "text": [
      "[b'h' b'e' b'l' b'l' b'o' b' ' b'w' b'o' b'r' b'l' b'd']\n"
     ]
    }
   ],
   "source": [
    "#numpy.frombuffer(buffer,dtype,count=-1,offset=0)\n",
    "#实现动态数组，接受buffer输入参数，一流的形式读入转化为ndarray格式\n",
    "s = b\"hello world\"\n",
    "a = np.frombuffer(s,dtype='S1')\n",
    "print(a)\n"
   ]
  },
  {
   "cell_type": "code",
   "execution_count": 62,
   "id": "02feed53-0cd3-4420-b1d1-3f181c68eeea",
   "metadata": {},
   "outputs": [
    {
     "name": "stdout",
     "output_type": "stream",
     "text": [
      "[0. 1. 2. 3. 4.]\n"
     ]
    }
   ],
   "source": [
    "#numpy.fromiter(iterable,dtype,count=-1)\n",
    "#从可迭代对象中建立ndarray，返回一维数组\n",
    "list = range(5)\n",
    "it = iter(list)\n",
    "x = np.fromiter(it,dtype=float)\n",
    "print(x)"
   ]
  },
  {
   "cell_type": "code",
   "execution_count": 66,
   "id": "a3284e3b-cef2-4f04-aae1-b4efaf32b438",
   "metadata": {},
   "outputs": [
    {
     "name": "stdout",
     "output_type": "stream",
     "text": [
      "[0 1 2 3 4]\n",
      "[0 2 4]\n",
      "[0. 2. 4.]\n"
     ]
    }
   ],
   "source": [
    "#numpy.arrange(start,stop,step,dtype)\n",
    "x = np.arange(5)\n",
    "print(x)\n",
    "x = np.arange(5,step=2)\n",
    "print(x)\n",
    "x = np.arange(5,step=2,dtype=float)\n",
    "print(x)"
   ]
  },
  {
   "cell_type": "code",
   "execution_count": 71,
   "id": "4b85c51c-0cf2-4aab-9ea8-0ca17cfc330c",
   "metadata": {},
   "outputs": [
    {
     "name": "stdout",
     "output_type": "stream",
     "text": [
      "[ 1.  2.  3.  4.  5.  6.  7.  8.  9. 10.]\n",
      "[1 1 1 1 1 1 1 1 1 1]\n",
      "[1. 2. 3. 4. 5. 6. 7. 8. 9.]\n",
      "(array([ 1.,  2.,  3.,  4.,  5.,  6.,  7.,  8.,  9., 10.]), 1.0)\n"
     ]
    }
   ],
   "source": [
    "#numpy.linspace(start,stop,num=50,endpoint=True,restep=False,dtypr=None)\n",
    "#创建一个一维数组，是由等差数列构成\n",
    "# （起始值，终止值，要生成的等步长的样本数量，是否包含终止值，是否显示间距，数据类型）?\n",
    "x = np.linspace(1,10,10)\n",
    "print(x)\n",
    "x = np.linspace(1,1,10,dtype=int)\n",
    "print(x)\n",
    "x = np.linspace(1,10,9,endpoint=False)\n",
    "print(x)\n",
    "x = np.linspace(1,10,10,retstep=True)\n",
    "print(x)"
   ]
  },
  {
   "cell_type": "code",
   "execution_count": 73,
   "id": "3dc88da2-b1aa-469c-8929-e9621fe5713a",
   "metadata": {},
   "outputs": [
    {
     "name": "stdout",
     "output_type": "stream",
     "text": [
      "[ 10.          12.91549665  16.68100537  21.5443469   27.82559402\n",
      "  35.93813664  46.41588834  59.94842503  77.42636827 100.        ]\n",
      "[  1.   2.   4.   8.  16.  32.  64. 128. 256. 512.]\n"
     ]
    }
   ],
   "source": [
    "#numpy.logspace(start,stop,num=50,endpoint=True,base=10.0,dtype)\n",
    "#base:取对数的时候log的下标\n",
    "#序列的终止值为：base**stop\n",
    "#创建一个等比数列\n",
    "a= np.logspace(1.0,2.0,num=10)\n",
    "print(a)\n",
    "a = np.logspace(00,9,10,base=2)\n",
    "print(a)"
   ]
  },
  {
   "cell_type": "code",
   "execution_count": 77,
   "id": "3cafd0d2-7b0c-457d-9e1b-25f6314a3585",
   "metadata": {},
   "outputs": [
    {
     "name": "stdout",
     "output_type": "stream",
     "text": [
      "slice(2, 7, 2)\n",
      "[2 4 6]\n",
      "[2 4 6]\n"
     ]
    }
   ],
   "source": [
    "#切片和索引\n",
    "#slice：切片\n",
    "a = np.arange(10)\n",
    "s = slice(2,7,2)#素银从2到7，间隔为2\n",
    "print(s)\n",
    "print(a[s])\n",
    "#就相当于\n",
    "print(a[2:7:2])"
   ]
  },
  {
   "cell_type": "code",
   "execution_count": 82,
   "id": "84576e00-47ba-483c-a9e8-77309bbb8f6e",
   "metadata": {},
   "outputs": [
    {
     "name": "stdout",
     "output_type": "stream",
     "text": [
      "[1 4 5]\n"
     ]
    }
   ],
   "source": [
    "#高级索引\n",
    "#获取（0，0）（1，0）（2，0）位置的元素\n",
    "x = np.array([[1,2],[3,4],[5,6]])\n",
    "y = x[[0,1,2],[0,1,0]]\n",
    "print(y)"
   ]
  },
  {
   "cell_type": "code",
   "execution_count": 83,
   "id": "80bd0cc0-a1d5-4745-a925-2215362b99b3",
   "metadata": {},
   "outputs": [
    {
     "name": "stdout",
     "output_type": "stream",
     "text": [
      "[6]\n"
     ]
    }
   ],
   "source": [
    "# 布尔索引\n",
    "y = x[x>5]\n",
    "print(y)"
   ]
  },
  {
   "cell_type": "code",
   "execution_count": null,
   "id": "5fda3d15-a4a1-4446-8473-0555c9911434",
   "metadata": {},
   "outputs": [],
   "source": []
  }
 ],
 "metadata": {
  "kernelspec": {
   "display_name": "Python(pytorch)",
   "language": "python",
   "name": "pytorch"
  },
  "language_info": {
   "codemirror_mode": {
    "name": "ipython",
    "version": 3
   },
   "file_extension": ".py",
   "mimetype": "text/x-python",
   "name": "python",
   "nbconvert_exporter": "python",
   "pygments_lexer": "ipython3",
   "version": "3.10.18"
  }
 },
 "nbformat": 4,
 "nbformat_minor": 5
}
