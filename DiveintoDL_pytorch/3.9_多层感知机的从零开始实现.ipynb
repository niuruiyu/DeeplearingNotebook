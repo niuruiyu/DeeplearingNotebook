{
 "cells": [
  {
   "cell_type": "code",
   "execution_count": 1,
   "id": "147a58a7-2221-4e66-ab8e-ea30cc367426",
   "metadata": {},
   "outputs": [],
   "source": [
    "import torch\n",
    "import numpy as np\n",
    "import sys\n",
    "import d2lzh_pytorch as d2l"
   ]
  },
  {
   "cell_type": "markdown",
   "id": "47990d67-b1a9-405b-8a17-609711108925",
   "metadata": {},
   "source": [
    "## 1.获取和读取数据"
   ]
  },
  {
   "cell_type": "code",
   "execution_count": null,
   "id": "29f1d52b-c2bb-41c8-b1b1-61fe88f638e9",
   "metadata": {},
   "outputs": [],
   "source": [
    "batch_size = 256\n",
    "train_data = torchvision.datasets.FashionMNIST(root = '~/Datasets/FashionMNIST',train = True,download=True,transform=transforms.ToTensor())\n"
   ]
  }
 ],
 "metadata": {
  "kernelspec": {
   "display_name": "Python(pytorch)",
   "language": "python",
   "name": "pytorch"
  },
  "language_info": {
   "codemirror_mode": {
    "name": "ipython",
    "version": 3
   },
   "file_extension": ".py",
   "mimetype": "text/x-python",
   "name": "python",
   "nbconvert_exporter": "python",
   "pygments_lexer": "ipython3",
   "version": "3.10.18"
  }
 },
 "nbformat": 4,
 "nbformat_minor": 5
}
