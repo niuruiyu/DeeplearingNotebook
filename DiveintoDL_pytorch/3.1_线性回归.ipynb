{
 "cells": [
  {
   "cell_type": "markdown",
   "id": "294718b5-e98d-433d-8a7f-1dd4ae93e610",
   "metadata": {},
   "source": [
    "注：此节基本上都是概念和介绍,这里只进行了简单的总结"
   ]
  },
  {
   "cell_type": "markdown",
   "id": "a30d2b6a-3cd5-4533-80f1-0b538c426fd5",
   "metadata": {},
   "source": [
    "![note](./images/3.1_1img.jpg)"
   ]
  }
 ],
 "metadata": {
  "kernelspec": {
   "display_name": "Python(pytorch)",
   "language": "python",
   "name": "pytorch"
  },
  "language_info": {
   "codemirror_mode": {
    "name": "ipython",
    "version": 3
   },
   "file_extension": ".py",
   "mimetype": "text/x-python",
   "name": "python",
   "nbconvert_exporter": "python",
   "pygments_lexer": "ipython3",
   "version": "3.10.18"
  }
 },
 "nbformat": 4,
 "nbformat_minor": 5
}
