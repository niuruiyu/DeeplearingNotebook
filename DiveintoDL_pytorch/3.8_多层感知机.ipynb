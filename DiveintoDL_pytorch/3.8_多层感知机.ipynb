{
 "cells": [
  {
   "cell_type": "markdown",
   "id": "f27d0895-cc7a-4720-b13a-f92c5beca2cc",
   "metadata": {},
   "source": [
    "## 1.隐藏层\n",
    "这个部分比较基础，此处略过"
   ]
  },
  {
   "cell_type": "markdown",
   "id": "1cac12c5-0fb5-47c6-8c9b-cb86c1a1b253",
   "metadata": {},
   "source": [
    "## 2.激活函数\n",
    "激活函数这部分我觉得炮哥的视频讲的很好  \n",
    "链接放到这里  \n",
    "https://www.bilibili.com/video/BV1eP411w7Re?spm_id_from=333.788.videopod.episodes&vd_source=40bd868399e33e94acdafd575ed0a5e1&p=21"
   ]
  }
 ],
 "metadata": {
  "kernelspec": {
   "display_name": "Python(pytorch)",
   "language": "python",
   "name": "pytorch"
  },
  "language_info": {
   "codemirror_mode": {
    "name": "ipython",
    "version": 3
   },
   "file_extension": ".py",
   "mimetype": "text/x-python",
   "name": "python",
   "nbconvert_exporter": "python",
   "pygments_lexer": "ipython3",
   "version": "3.10.18"
  }
 },
 "nbformat": 4,
 "nbformat_minor": 5
}
