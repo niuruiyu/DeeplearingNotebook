{
 "cells": [
  {
   "cell_type": "code",
   "execution_count": 6,
   "id": "a10add85-405c-4b77-a9a5-eef709c7c89f",
   "metadata": {},
   "outputs": [],
   "source": [
    "from torchvision import transforms\n",
    "from PIL import Image"
   ]
  },
  {
   "cell_type": "code",
   "execution_count": 7,
   "id": "17f86b34-00ec-40f6-86e8-d1711ef10f6c",
   "metadata": {},
   "outputs": [
    {
     "name": "stdout",
     "output_type": "stream",
     "text": [
      "torch.Size([3, 375, 500])\n"
     ]
    }
   ],
   "source": [
    "#transfroms主要是对图片进行处理\n",
    "#通过transforms.ToTensor解决：transforms的使用，Tensor的数据类型的特点\n",
    "img_path = \"hymenoptera_data/train/ants/5650366_e22b7e1065.jpg\"\n",
    "img = Image.open(img_path)\n",
    "#把totensor取出\n",
    "tensor_trans = transforms.ToTensor()\n",
    "#进行操作\n",
    "img_tensor = tensor_trans(img)\n",
    "print(img_tensor.shape)\n",
    "#实现torch格式对tensorboard的写入\n",
    "from torch.utils.tensorboard import SummaryWriter\n",
    "writer = SummaryWriter(\"logs\")\n",
    "writer.add_image(\"tensorimg\",img_tensor,1)\n",
    "writer.close()"
   ]
  },
  {
   "cell_type": "code",
   "execution_count": null,
   "id": "d0e7eff1-4538-47dc-8b21-4428460421ff",
   "metadata": {},
   "outputs": [],
   "source": [
    "#常见的transforms\n",
    "img = Image.open(\"hymenoptera_data/train/ants/5650366_e22b7e1065.jpg\")\n"
   ]
  },
  {
   "cell_type": "code",
   "execution_count": null,
   "id": "d081ce96-e959-46cb-ab8d-351758c3d5d9",
   "metadata": {},
   "outputs": [],
   "source": []
  }
 ],
 "metadata": {
  "kernelspec": {
   "display_name": "Python(pytorch)",
   "language": "python",
   "name": "pytorch"
  },
  "language_info": {
   "codemirror_mode": {
    "name": "ipython",
    "version": 3
   },
   "file_extension": ".py",
   "mimetype": "text/x-python",
   "name": "python",
   "nbconvert_exporter": "python",
   "pygments_lexer": "ipython3",
   "version": "3.10.18"
  }
 },
 "nbformat": 4,
 "nbformat_minor": 5
}
