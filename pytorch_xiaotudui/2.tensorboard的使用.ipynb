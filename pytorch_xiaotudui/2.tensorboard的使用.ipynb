{
 "cells": [
  {
   "cell_type": "code",
   "execution_count": 2,
   "id": "5e36e952-eca8-4782-8366-20c6c0c566b2",
   "metadata": {},
   "outputs": [],
   "source": [
    "from torch.utils.tensorboard import SummaryWriter"
   ]
  },
  {
   "cell_type": "code",
   "execution_count": 10,
   "id": "96a53793-adb1-455d-a830-42d60953500a",
   "metadata": {},
   "outputs": [],
   "source": [
    "#创建实例\n",
    "writer = SummaryWriter(\"logs\")\n",
    "#添加标量，参数依次是图标标题，y轴，x轴\n",
    "for i in range(100):\n",
    "    writer.add_scalar(\"y=2x\",2*i,i)\n",
    "writer.close()\n",
    "#运行后目录中出现了logs文件夹\n",
    "#在终端输入tensorboard --logdir=logs\n",
    "#默认的端口是6006\n",
    "#更改端口：tensorboard --logdir=logs --port=6007"
   ]
  },
  {
   "cell_type": "code",
   "execution_count": 20,
   "id": "015fd231-a288-4b15-b203-501909966002",
   "metadata": {},
   "outputs": [
    {
     "name": "stdout",
     "output_type": "stream",
     "text": [
      "<class 'PIL.JpegImagePlugin.JpegImageFile'>\n",
      "<class 'numpy.ndarray'>\n",
      "(512, 768, 3)\n",
      "(450, 500, 3)\n"
     ]
    }
   ],
   "source": [
    "#插入图片,使用writer.add_image(标题，image，global—step)\n",
    "img_path = \"hymenoptera_data/train/ants/0013035.jpg\"\n",
    "#要求图片的格式是numpy.array/torch.tensor\n",
    "from PIL import Image\n",
    "img = Image.open(img_path)\n",
    "print(type(img))\n",
    "#不满足上面的要求，这里先转为numpy型\n",
    "import numpy as np\n",
    "img_array = np.array(img)\n",
    "print(type(img_array))\n",
    "print(img_array.shape)\n",
    "img_path = \"hymenoptera_data/train/bees/16838648_415acd9e3f.jpg\"\n",
    "img1 = Image.open(img_path)\n",
    "img1_array = np.array(img1)\n",
    "print(img1_array.shape)"
   ]
  },
  {
   "cell_type": "code",
   "execution_count": 21,
   "id": "46f6ed71-74bd-4cba-a9e0-5777b09c9be7",
   "metadata": {},
   "outputs": [],
   "source": [
    "#上面的img_array已经得到了需要的图片\n",
    "writer = SummaryWriter(\"logs\")\n",
    "writer.add_image(\"test\",img1_array,1,dataformats=\"HWC\")\n",
    "writer.add_image(\"test\",img_array,2,dataformats=\"HWC\")\n",
    "\n",
    "#numpy格式需要在DATAFORMATS指定shape中每一个数字/维度表示的含义\n",
    "writer.close()"
   ]
  },
  {
   "cell_type": "code",
   "execution_count": null,
   "id": "624f3377-0737-4927-9df5-fd663fd0596a",
   "metadata": {},
   "outputs": [],
   "source": []
  }
 ],
 "metadata": {
  "kernelspec": {
   "display_name": "Python(pytorch)",
   "language": "python",
   "name": "pytorch"
  },
  "language_info": {
   "codemirror_mode": {
    "name": "ipython",
    "version": 3
   },
   "file_extension": ".py",
   "mimetype": "text/x-python",
   "name": "python",
   "nbconvert_exporter": "python",
   "pygments_lexer": "ipython3",
   "version": "3.10.18"
  }
 },
 "nbformat": 4,
 "nbformat_minor": 5
}
