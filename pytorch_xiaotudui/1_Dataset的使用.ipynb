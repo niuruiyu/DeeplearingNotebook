{
 "cells": [
  {
   "cell_type": "code",
   "execution_count": 7,
   "id": "8accb906-3ab0-417a-a203-bdb83e766622",
   "metadata": {},
   "outputs": [],
   "source": [
    "from torch.utils.data import Dataset\n",
    "import os"
   ]
  },
  {
   "cell_type": "code",
   "execution_count": 13,
   "id": "47e4727b-46ea-43fe-8e48-3317e1c2a309",
   "metadata": {},
   "outputs": [
    {
     "name": "stdout",
     "output_type": "stream",
     "text": [
      "图片的大小： (768, 512)\n",
      "图片的格式： JPEG\n"
     ]
    }
   ],
   "source": [
    "from PIL import Image\n",
    "#获取图片地址的方式\n",
    "img_path = \"hymenoptera_data/train/ants/0013035.jpg\"\n",
    "#打开图片\n",
    "img = Image.open(img_path)\n",
    "#打印出这张图片的一些属性/参数\n",
    "print(\"图片的大小：\",img.size)\n",
    "print(\"图片的格式：\",img.format)\n",
    "#图片的显示\n",
    "img.show()"
   ]
  },
  {
   "cell_type": "code",
   "execution_count": 26,
   "id": "46020eef-327c-4b21-bcd1-a2983948b68b",
   "metadata": {},
   "outputs": [
    {
     "name": "stdout",
     "output_type": "stream",
     "text": [
      "0013035.jpg\n",
      "1030023514_aad5c608f9.jpg\n",
      "(768, 512)\n"
     ]
    }
   ],
   "source": [
    "import os\n",
    "#如何将文件夹内的图片全部获取\n",
    "#可以把装有图片的文件夹当成是一个列表，再在列表里面一个一个列出图片\n",
    "dir_path = \"hymenoptera_data/train/ants\"\n",
    "img_path_list = os.listdir(dir_path)\n",
    "#此时img_path_list就把dir——path路径内的所有图片标号号放到自己里面（作为列表的格式）\n",
    "print(img_path_list[0])\n",
    "print(img_path_list[1])\n",
    "#内部是str格式，即img_path_list[0]在dir_path目录下的路径\n",
    "#但是由于我们使用这些图片时需要的是这些图片在我们写代码的这个文件下的相对路径\n",
    "#所以将dir_path和img_path_list内的元素连接起来\n",
    "img0_path = os.path.join(dir_path,img_path_list[0])\n",
    "#这样就获取到了img0的地址，我们可以对img0进行一系列的操作\n",
    "img0 = Image.open(img0_path)\n",
    "print(img0.size)"
   ]
  },
  {
   "cell_type": "code",
   "execution_count": 27,
   "id": "78228bee-578e-402a-abe3-322b66ec0929",
   "metadata": {},
   "outputs": [],
   "source": [
    "from torch.utils.data import Dataset\n",
    "from PIL import Image\n",
    "import os\n",
    "#创建一个MyData类，继承Dataset类\n",
    "class MyData(Dataset):\n",
    "    def __init__(self,root_dir,label_dir):\n",
    "        #将数据集的根目录和数据的label目录拼接起来，\n",
    "        #得到数据的list\n",
    "        self.root_dir = root_dir\n",
    "        self.label_dir = label_dir\n",
    "        self.path = os.path.join(self.root_dir,self.label_dir)\n",
    "        self.img_path = os.listdir(self.path)\n",
    "\n",
    "    def __getitem__(self, idx):\n",
    "        #得到具体图片以及其label\n",
    "        img_name = self.img_path[idx]\n",
    "        img_item_path = os.path.join(self.path,img_name)\n",
    "        img = Image.open(img_item_path)\n",
    "        label = self.label_dir\n",
    "        return img,label\n",
    "    def __len__(self):\n",
    "        #数据list的长度\n",
    "        return len(self.img_path)"
   ]
  },
  {
   "cell_type": "code",
   "execution_count": 34,
   "id": "09f24f61-258d-4cfe-9425-88996e9c2945",
   "metadata": {
    "collapsed": true,
    "jupyter": {
     "outputs_hidden": true
    }
   },
   "outputs": [
    {
     "name": "stdout",
     "output_type": "stream",
     "text": [
      "hymenoptera_data/train\n",
      "ants\n",
      "hymenoptera_data/train\\ants\n",
      "['0013035.jpg', '1030023514_aad5c608f9.jpg', '1095476100_3906d8afde.jpg', '1099452230_d1949d3250.jpg', '116570827_e9c126745d.jpg', '1225872729_6f0856588f.jpg', '1262877379_64fcada201.jpg', '1269756697_0bce92cdab.jpg', '1286984635_5119e80de1.jpg', '132478121_2a430adea2.jpg', '1360291657_dc248c5eea.jpg', '1368913450_e146e2fb6d.jpg', '1473187633_63ccaacea6.jpg', '148715752_302c84f5a4.jpg', '1489674356_09d48dde0a.jpg', '149244013_c529578289.jpg', '150801003_3390b73135.jpg', '150801171_cd86f17ed8.jpg', '154124431_65460430f2.jpg', '162603798_40b51f1654.jpg', '1660097129_384bf54490.jpg', '167890289_dd5ba923f3.jpg', '1693954099_46d4c20605.jpg', '175998972.jpg', '178538489_bec7649292.jpg', '1804095607_0341701e1c.jpg', '1808777855_2a895621d7.jpg', '188552436_605cc9b36b.jpg', '1917341202_d00a7f9af5.jpg', '1924473702_daa9aacdbe.jpg', '196057951_63bf063b92.jpg', '196757565_326437f5fe.jpg', '201558278_fe4caecc76.jpg', '201790779_527f4c0168.jpg', '2019439677_2db655d361.jpg', '207947948_3ab29d7207.jpg', '20935278_9190345f6b.jpg', '224655713_3956f7d39a.jpg', '2265824718_2c96f485da.jpg', '2265825502_fff99cfd2d.jpg', '226951206_d6bf946504.jpg', '2278278459_6b99605e50.jpg', '2288450226_a6e96e8fdf.jpg', '2288481644_83ff7e4572.jpg', '2292213964_ca51ce4bef.jpg', '24335309_c5ea483bb8.jpg', '245647475_9523dfd13e.jpg', '255434217_1b2b3fe0a4.jpg', '258217966_d9d90d18d3.jpg', '275429470_b2d7d9290b.jpg', '28847243_e79fe052cd.jpg', '318052216_84dff3f98a.jpg', '334167043_cbd1adaeb9.jpg', '339670531_94b75ae47a.jpg', '342438950_a3da61deab.jpg', '36439863_0bec9f554f.jpg', '374435068_7eee412ec4.jpg', '382971067_0bfd33afe0.jpg', '384191229_5779cf591b.jpg', '386190770_672743c9a7.jpg', '392382602_1b7bed32fa.jpg', '403746349_71384f5b58.jpg', '408393566_b5b694119b.jpg', '424119020_6d57481dab.jpg', '424873399_47658a91fb.jpg', '450057712_771b3bfc91.jpg', '45472593_bfd624f8dc.jpg', '459694881_ac657d3187.jpg', '460372577_f2f6a8c9fc.jpg', '460874319_0a45ab4d05.jpg', '466430434_4000737de9.jpg', '470127037_513711fd21.jpg', '474806473_ca6caab245.jpg', '475961153_b8c13fd405.jpg', '484293231_e53cfc0c89.jpg', '49375974_e28ba6f17e.jpg', '506249802_207cd979b4.jpg', '506249836_717b73f540.jpg', '512164029_c0a66b8498.jpg', '512863248_43c8ce579b.jpg', '518773929_734dbc5ff4.jpg', '522163566_fec115ca66.jpg', '522415432_2218f34bf8.jpg', '531979952_bde12b3bc0.jpg', '533848102_70a85ad6dd.jpg', '535522953_308353a07c.jpg', '540889389_48bb588b21.jpg', '541630764_dbd285d63c.jpg', '543417860_b14237f569.jpg', '560966032_988f4d7bc4.jpg', '5650366_e22b7e1065.jpg', '6240329_72c01e663e.jpg', '6240338_93729615ec.jpg', '649026570_e58656104b.jpg', '662541407_ff8db781e7.jpg', '67270775_e9fdf77e9d.jpg', '6743948_2b8c096dda.jpg', '684133190_35b62c0c1d.jpg', '69639610_95e0de17aa.jpg', '707895295_009cf23188.jpg', '7759525_1363d24e88.jpg', '795000156_a9900a4a71.jpg', '822537660_caf4ba5514.jpg', '82852639_52b7f7f5e3.jpg', '841049277_b28e58ad05.jpg', '886401651_f878e888cd.jpg', '892108839_f1aad4ca46.jpg', '938946700_ca1c669085.jpg', '957233405_25c1d1187b.jpg', '9715481_b3cb4114ff.jpg', '998118368_6ac1d91f81.jpg', 'ant photos.jpg', 'Ant_1.jpg', 'army-ants-red-picture.jpg', 'formica.jpeg', 'hormiga_co_por.jpg', 'imageNotFound.gif', 'kurokusa.jpg', 'MehdiabadiAnt2_600.jpg', 'Nepenthes_rafflesiana_ant.jpg', 'swiss-army-ant.jpg', 'termite-vs-ant.jpg', 'trap-jaw-ant-insect-bg.jpg', 'VietnameseAntMimicSpider.jpg']\n"
     ]
    }
   ],
   "source": [
    "#获取训练集中蚂蚁的数据集\n",
    "root_dir = \"hymenoptera_data/train\"\n",
    "label_dir = \"ants\"\n",
    "ants_dataset = MyData(root_dir,label_dir)\n",
    "#得到了ants_dataset\n",
    "print(ants_dataset.root_dir)\n",
    "print(ants_dataset.label_dir)\n",
    "print(ants_dataset.path)\n",
    "print(ants_dataset.img_path)"
   ]
  },
  {
   "cell_type": "code",
   "execution_count": 39,
   "id": "eae935ad-52a0-4df9-bf66-af56236d5583",
   "metadata": {},
   "outputs": [
    {
     "name": "stdout",
     "output_type": "stream",
     "text": [
      "<PIL.JpegImagePlugin.JpegImageFile image mode=RGB size=768x512 at 0x195B67B2620>\n"
     ]
    }
   ],
   "source": [
    "#可以对ants_dataset进行操作\n",
    "ants_dataset[0]\n",
    "img,label = ants_dataset[0]\n",
    "print(img)\n",
    "img.show()"
   ]
  },
  {
   "cell_type": "code",
   "execution_count": 42,
   "id": "7de0692f-37b2-4a77-8491-ad89ebee36dc",
   "metadata": {},
   "outputs": [
    {
     "name": "stdout",
     "output_type": "stream",
     "text": [
      "(500, 333)\n"
     ]
    }
   ],
   "source": [
    "#获取训练集中蜜蜂的数据集\n",
    "root_dir = \"hymenoptera_data/train\"\n",
    "label_dir = \"bees\"\n",
    "bees_dataset = MyData(root_dir,label_dir)\n",
    "img,label = bees_dataset[0]\n",
    "print(img.size)\n",
    "img.show()"
   ]
  },
  {
   "cell_type": "code",
   "execution_count": 54,
   "id": "3458977a-5d5c-432d-8f5e-2e9ee60807a2",
   "metadata": {},
   "outputs": [
    {
     "name": "stdout",
     "output_type": "stream",
     "text": [
      "245\n",
      "124\n",
      "121\n",
      "<PIL.JpegImagePlugin.JpegImageFile image mode=RGB size=768x512 at 0x195B58AB9A0>\n"
     ]
    }
   ],
   "source": [
    "#合并两个数据集\n",
    "train_data = ants_dataset+bees_dataset\n",
    "print(len(train_data))\n",
    "print(len(ants_dataset))\n",
    "print(len(bees_dataset))\n",
    "img,label = train_data[0]\n",
    "print(img)\n",
    "img.show()"
   ]
  },
  {
   "cell_type": "code",
   "execution_count": null,
   "id": "6f33045d-5ff4-40d1-b76a-b0251b6082f0",
   "metadata": {},
   "outputs": [],
   "source": []
  }
 ],
 "metadata": {
  "kernelspec": {
   "display_name": "Python(pytorch)",
   "language": "python",
   "name": "pytorch"
  },
  "language_info": {
   "codemirror_mode": {
    "name": "ipython",
    "version": 3
   },
   "file_extension": ".py",
   "mimetype": "text/x-python",
   "name": "python",
   "nbconvert_exporter": "python",
   "pygments_lexer": "ipython3",
   "version": "3.10.18"
  }
 },
 "nbformat": 4,
 "nbformat_minor": 5
}
